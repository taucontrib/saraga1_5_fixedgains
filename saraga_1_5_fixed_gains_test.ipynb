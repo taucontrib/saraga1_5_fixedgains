{
 "cells": [
  {
   "cell_type": "code",
   "execution_count": null,
   "id": "80f5a351-7ee3-4530-ba54-bcfeb8934adf",
   "metadata": {},
   "outputs": [],
   "source": [
    "import mirdata\n",
    "from IPython.display import Audio\n",
    "import librosa\n",
    "import os"
   ]
  },
  {
   "cell_type": "code",
   "execution_count": null,
   "id": "435be6a6-a0ba-426d-a929-edfbeede3fe5",
   "metadata": {},
   "outputs": [],
   "source": [
    "from saraga_1_5_fixedgains import SaragaFixedGainsDataset"
   ]
  },
  {
   "cell_type": "code",
   "execution_count": null,
   "id": "dbb44452-b2c5-4fb3-93cd-e8d1465ad55b",
   "metadata": {},
   "outputs": [],
   "source": [
    "path_to_dataset = '../carnatic/data/'"
   ]
  },
  {
   "cell_type": "code",
   "execution_count": null,
   "id": "b7ac5fca-799d-4892-a3e6-5ad9dab4027b",
   "metadata": {},
   "outputs": [],
   "source": [
    "dataset = SaragaFixedGainsDataset(path_to_dataset, \n",
    "                                  instrumentals_to_mix = ['audio_mridangam_left_path', 'audio_mridangam_right_path','audio_violin_path'], \n",
    "                                  consider_vocal_probabilities = False,\n",
    "                                  snr_lower = -5.0,       \n",
    "                                  snr_upper =  5.0, \n",
    "                                  total_snr_levels = 11)"
   ]
  },
  {
   "cell_type": "code",
   "execution_count": null,
   "id": "2b28cb8f-e355-4a15-89ac-fce1c8d986a9",
   "metadata": {},
   "outputs": [],
   "source": [
    "firstsample = None\n",
    "for i, sample in enumerate(dataset):\n",
    "    print('SNR: {}'.format(sample['snr']))\n",
    "    print('Mix:')\n",
    "    display(Audio(sample['mix'], rate = 24000, normalize=False))\n",
    "    print('Vocal:')\n",
    "    display(Audio(sample['vocal'], rate = 24000, normalize=False))\n",
    "    print('Instrumental:')\n",
    "    display(Audio(sample['instrumental'], rate = 24000, normalize=False))\n",
    "    if i == 20:\n",
    "        break"
   ]
  },
  {
   "cell_type": "code",
   "execution_count": null,
   "id": "60729d09-aa75-4d65-b78a-84438cfdf19b",
   "metadata": {},
   "outputs": [],
   "source": []
  }
 ],
 "metadata": {
  "kernelspec": {
   "display_name": "Python 3 (ipykernel)",
   "language": "python",
   "name": "python3"
  },
  "language_info": {
   "codemirror_mode": {
    "name": "ipython",
    "version": 3
   },
   "file_extension": ".py",
   "mimetype": "text/x-python",
   "name": "python",
   "nbconvert_exporter": "python",
   "pygments_lexer": "ipython3",
   "version": "3.8.10"
  }
 },
 "nbformat": 4,
 "nbformat_minor": 5
}
